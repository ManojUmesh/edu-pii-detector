{
 "cells": [
  {
   "cell_type": "markdown",
   "id": "1105ab09",
   "metadata": {},
   "source": [
    "# Personally Identifiable Information (PII) Data Detec"
   ]
  },
  {
   "cell_type": "markdown",
   "id": "87a0fc61",
   "metadata": {},
   "source": [
    "#### The dataset comprises approximately 22,000 essays written by students enrolled in a massively open online course. All of the essays were written in response to a single assignment prompt, which asked students to apply course material to a real-world problem. \n",
    "\n",
    "#### The goal is to annotate personally identifiable information (PII) found within the essays."
   ]
  },
  {
   "cell_type": "markdown",
   "id": "2059f640",
   "metadata": {},
   "source": [
    "#### There are seven types of PII:\n",
    "\n",
    "* *NAME_STUDENT* - The full or partial name of a student that is not necessarily the author of the essay. This excludes instructors, authors, and other person names.\n",
    "* *EMAIL* - A student’s email address.\n",
    "* *USERNAME* - A student's username on any platform.\n",
    "* *ID_NUM* - A number or sequence of characters that could be used to identify a student, such as a student ID or a social security number.\n",
    "* *PHONE_NUM* - A phone number associated with a student.\n",
    "* *URL_PERSONAL* - A URL that might be used to identify a student.\n",
    "* *STREET_ADDRESS* - A full or partial street address that is associated with the student, such as their home address."
   ]
  }
 ],
 "metadata": {
  "language_info": {
   "name": "python"
  }
 },
 "nbformat": 4,
 "nbformat_minor": 5
}
