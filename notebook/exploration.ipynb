{
 "cells": [
  {
   "cell_type": "markdown",
   "id": "1105ab09",
   "metadata": {},
   "source": [
    "# Personally Identifiable Information (PII) Data Detec"
   ]
  },
  {
   "cell_type": "markdown",
   "id": "87a0fc61",
   "metadata": {},
   "source": [
    "#### The dataset comprises approximately 22,000 essays written by students enrolled in a massively open online course. All of the essays were written in response to a single assignment prompt, which asked students to apply course material to a real-world problem. \n",
    "\n",
    "#### The goal is to annotate personally identifiable information (PII) found within the essays."
   ]
  },
  {
   "cell_type": "markdown",
   "id": "2059f640",
   "metadata": {},
   "source": [
    "#### There are seven types of PII:\n",
    "\n",
    "* *NAME_STUDENT* - The full or partial name of a student that is not necessarily the author of the essay. This excludes instructors, authors, and other person names.\n",
    "* *EMAIL* - A student’s email address.\n",
    "* *USERNAME* - A student's username on any platform.\n",
    "* *ID_NUM* - A number or sequence of characters that could be used to identify a student, such as a student ID or a social security number.\n",
    "* *PHONE_NUM* - A phone number associated with a student.\n",
    "* *URL_PERSONAL* - A URL that might be used to identify a student.\n",
    "* *STREET_ADDRESS* - A full or partial street address that is associated with the student, such as their home address."
   ]
  },
  {
   "cell_type": "code",
   "execution_count": 69,
   "id": "ffef7d9d",
   "metadata": {},
   "outputs": [],
   "source": [
    "import os\n",
    "\n",
    "import pandas as pd # data processing, CSV file I/O (e.g. pd.read_csv)\n",
    "import matplotlib.pyplot as plt\n",
    "import seaborn as sns\n",
    "import spacy\n",
    "import json"
   ]
  },
  {
   "cell_type": "code",
   "execution_count": 70,
   "id": "62c21eae",
   "metadata": {},
   "outputs": [],
   "source": [
    "class InputData:\n",
    "    train = \"input/train.json\"\n",
    "    test = \"input/test.json\""
   ]
  },
  {
   "cell_type": "code",
   "execution_count": 71,
   "id": "6e30af72",
   "metadata": {},
   "outputs": [
    {
     "name": "stdout",
     "output_type": "stream",
     "text": [
      "train data shape: (6807, 5)\n",
      "test data shape: (10, 4)\n",
      "total shape of data: (6817, 5)\n"
     ]
    }
   ],
   "source": [
    "train_data = pd.read_json(InputData.train)\n",
    "test_data = pd.read_json(InputData.test)\n",
    "all_data = pd.concat([train_data, test_data])\n",
    "\n",
    "print(f\"train data shape: {train_data.shape}\")\n",
    "print(f\"test data shape: {test_data.shape}\")\n",
    "print(f\"total shape of data: {all_data.shape}\")"
   ]
  },
  {
   "cell_type": "code",
   "execution_count": 72,
   "id": "eb712306",
   "metadata": {},
   "outputs": [
    {
     "data": {
      "text/html": [
       "<div>\n",
       "<style scoped>\n",
       "    .dataframe tbody tr th:only-of-type {\n",
       "        vertical-align: middle;\n",
       "    }\n",
       "\n",
       "    .dataframe tbody tr th {\n",
       "        vertical-align: top;\n",
       "    }\n",
       "\n",
       "    .dataframe thead th {\n",
       "        text-align: right;\n",
       "    }\n",
       "</style>\n",
       "<table border=\"1\" class=\"dataframe\">\n",
       "  <thead>\n",
       "    <tr style=\"text-align: right;\">\n",
       "      <th></th>\n",
       "      <th>document</th>\n",
       "      <th>full_text</th>\n",
       "      <th>tokens</th>\n",
       "      <th>trailing_whitespace</th>\n",
       "      <th>labels</th>\n",
       "    </tr>\n",
       "  </thead>\n",
       "  <tbody>\n",
       "    <tr>\n",
       "      <th>0</th>\n",
       "      <td>7</td>\n",
       "      <td>Design Thinking for innovation reflexion-Avril...</td>\n",
       "      <td>[Design, Thinking, for, innovation, reflexion,...</td>\n",
       "      <td>[True, True, True, True, False, False, True, F...</td>\n",
       "      <td>[O, O, O, O, O, O, O, O, O, B-NAME_STUDENT, I-...</td>\n",
       "    </tr>\n",
       "    <tr>\n",
       "      <th>1</th>\n",
       "      <td>10</td>\n",
       "      <td>Diego Estrada\\n\\nDesign Thinking Assignment\\n\\...</td>\n",
       "      <td>[Diego, Estrada, \\n\\n, Design, Thinking, Assig...</td>\n",
       "      <td>[True, False, False, True, True, False, False,...</td>\n",
       "      <td>[B-NAME_STUDENT, I-NAME_STUDENT, O, O, O, O, O...</td>\n",
       "    </tr>\n",
       "    <tr>\n",
       "      <th>2</th>\n",
       "      <td>16</td>\n",
       "      <td>Reporting process\\n\\nby Gilberto Gamboa\\n\\nCha...</td>\n",
       "      <td>[Reporting, process, \\n\\n, by, Gilberto, Gambo...</td>\n",
       "      <td>[True, False, False, True, True, False, False,...</td>\n",
       "      <td>[O, O, O, O, B-NAME_STUDENT, I-NAME_STUDENT, O...</td>\n",
       "    </tr>\n",
       "    <tr>\n",
       "      <th>3</th>\n",
       "      <td>20</td>\n",
       "      <td>Design Thinking for Innovation\\n\\nSindy Samaca...</td>\n",
       "      <td>[Design, Thinking, for, Innovation, \\n\\n, Sind...</td>\n",
       "      <td>[True, True, True, False, False, True, False, ...</td>\n",
       "      <td>[O, O, O, O, O, B-NAME_STUDENT, I-NAME_STUDENT...</td>\n",
       "    </tr>\n",
       "    <tr>\n",
       "      <th>4</th>\n",
       "      <td>56</td>\n",
       "      <td>Assignment:  Visualization Reflection  Submitt...</td>\n",
       "      <td>[Assignment, :,   , Visualization,  , Reflecti...</td>\n",
       "      <td>[False, False, False, False, False, False, Fal...</td>\n",
       "      <td>[O, O, O, O, O, O, O, O, O, O, O, O, B-NAME_ST...</td>\n",
       "    </tr>\n",
       "  </tbody>\n",
       "</table>\n",
       "</div>"
      ],
      "text/plain": [
       "   document                                          full_text  \\\n",
       "0         7  Design Thinking for innovation reflexion-Avril...   \n",
       "1        10  Diego Estrada\\n\\nDesign Thinking Assignment\\n\\...   \n",
       "2        16  Reporting process\\n\\nby Gilberto Gamboa\\n\\nCha...   \n",
       "3        20  Design Thinking for Innovation\\n\\nSindy Samaca...   \n",
       "4        56  Assignment:  Visualization Reflection  Submitt...   \n",
       "\n",
       "                                              tokens  \\\n",
       "0  [Design, Thinking, for, innovation, reflexion,...   \n",
       "1  [Diego, Estrada, \\n\\n, Design, Thinking, Assig...   \n",
       "2  [Reporting, process, \\n\\n, by, Gilberto, Gambo...   \n",
       "3  [Design, Thinking, for, Innovation, \\n\\n, Sind...   \n",
       "4  [Assignment, :,   , Visualization,  , Reflecti...   \n",
       "\n",
       "                                 trailing_whitespace  \\\n",
       "0  [True, True, True, True, False, False, True, F...   \n",
       "1  [True, False, False, True, True, False, False,...   \n",
       "2  [True, False, False, True, True, False, False,...   \n",
       "3  [True, True, True, False, False, True, False, ...   \n",
       "4  [False, False, False, False, False, False, Fal...   \n",
       "\n",
       "                                              labels  \n",
       "0  [O, O, O, O, O, O, O, O, O, B-NAME_STUDENT, I-...  \n",
       "1  [B-NAME_STUDENT, I-NAME_STUDENT, O, O, O, O, O...  \n",
       "2  [O, O, O, O, B-NAME_STUDENT, I-NAME_STUDENT, O...  \n",
       "3  [O, O, O, O, O, B-NAME_STUDENT, I-NAME_STUDENT...  \n",
       "4  [O, O, O, O, O, O, O, O, O, O, O, O, B-NAME_ST...  "
      ]
     },
     "execution_count": 72,
     "metadata": {},
     "output_type": "execute_result"
    }
   ],
   "source": [
    "all_data.head()"
   ]
  },
  {
   "cell_type": "code",
   "execution_count": 73,
   "id": "e8a014e7",
   "metadata": {},
   "outputs": [
    {
     "data": {
      "text/plain": [
       "['Design',\n",
       " 'Thinking',\n",
       " 'for',\n",
       " 'innovation',\n",
       " 'reflexion',\n",
       " '-',\n",
       " 'Avril',\n",
       " '2021',\n",
       " '-',\n",
       " 'Nathalie',\n",
       " 'Sylla',\n",
       " '\\n\\n']"
      ]
     },
     "execution_count": 73,
     "metadata": {},
     "output_type": "execute_result"
    }
   ],
   "source": [
    "all_data.tokens[0].values[0][:12]"
   ]
  },
  {
   "cell_type": "code",
   "execution_count": 74,
   "id": "d8d960cf",
   "metadata": {},
   "outputs": [
    {
     "data": {
      "text/plain": [
       "['O',\n",
       " 'O',\n",
       " 'O',\n",
       " 'O',\n",
       " 'O',\n",
       " 'O',\n",
       " 'O',\n",
       " 'O',\n",
       " 'O',\n",
       " 'B-NAME_STUDENT',\n",
       " 'I-NAME_STUDENT',\n",
       " 'O']"
      ]
     },
     "execution_count": 74,
     "metadata": {},
     "output_type": "execute_result"
    }
   ],
   "source": [
    "all_data.labels[0].values[0][:12]"
   ]
  },
  {
   "cell_type": "code",
   "execution_count": 75,
   "id": "36380ec3",
   "metadata": {},
   "outputs": [
    {
     "name": "stdout",
     "output_type": "stream",
     "text": [
      "{'B-STREET_ADDRESS', 'O', 'B-USERNAME', 'I-PHONE_NUM', 'I-STREET_ADDRESS', 'I-ID_NUM', 'B-NAME_STUDENT', 'I-URL_PERSONAL', 'B-EMAIL', 'I-NAME_STUDENT', 'B-URL_PERSONAL', 'B-PHONE_NUM', 'B-ID_NUM'}\n"
     ]
    }
   ],
   "source": [
    "# Unique labels in dataframe\n",
    "unique_labels = set()\n",
    "for row in range(len(train_data)):\n",
    "    unique_labels = unique_labels.union(set(train_data.iloc[row].labels))\n",
    "print(unique_labels)"
   ]
  },
  {
   "cell_type": "code",
   "execution_count": 76,
   "id": "220bb6b3",
   "metadata": {},
   "outputs": [
    {
     "name": "stdout",
     "output_type": "stream",
     "text": [
      "Quantity of each label:\n",
      "{'O': 4989794, 'B-NAME_STUDENT': 1365, 'I-NAME_STUDENT': 1096, 'B-URL_PERSONAL': 110, 'B-ID_NUM': 78, 'B-EMAIL': 39, 'I-STREET_ADDRESS': 20, 'I-PHONE_NUM': 15, 'B-USERNAME': 6, 'B-PHONE_NUM': 6, 'B-STREET_ADDRESS': 2, 'I-URL_PERSONAL': 1, 'I-ID_NUM': 1}\n"
     ]
    }
   ],
   "source": [
    "# QTY of unique labels in dataframe\n",
    "train_label_count = dict()\n",
    "for row in range(len(train_data)):\n",
    "    for label in train_data.iloc[row].labels:\n",
    "        train_label_count[label] = train_label_count.get(label, 0) + 1\n",
    "train_label_count = dict(sorted(train_label_count.items(), key=lambda x: x[1], reverse=True))\n",
    "        \n",
    "print('Quantity of each label:')\n",
    "print(train_label_count)"
   ]
  },
  {
   "cell_type": "code",
   "execution_count": 77,
   "id": "94a5fcc1",
   "metadata": {},
   "outputs": [
    {
     "data": {
      "image/png": "[encoded data removed]",
      "text/plain": [
       "<Figure size 1000x500 with 1 Axes>"
      ]
     },
     "metadata": {},
     "output_type": "display_data"
    }
   ],
   "source": [
    "plt.figure(figsize=(10,5))\n",
    "sns.barplot(x=list(train_label_count.values())[1:], y=list(train_label_count.keys())[1:], color='blue')\n",
    "plt.grid(True, linestyle='--', linewidth=0.5)"
   ]
  },
  {
   "cell_type": "code",
   "execution_count": 78,
   "id": "3fd3dbd9",
   "metadata": {},
   "outputs": [
    {
     "name": "stdout",
     "output_type": "stream",
     "text": [
      "['EMAIL', 'STREET_ADDRESS', 'ID_NUM', 'NAME_STUDENT', 'URL_PERSONAL', 'PHONE_NUM', 'USERNAME']\n"
     ]
    }
   ],
   "source": [
    "entities = [ent for ent in set([key[2:] for key in train_label_count]) - {''}]\n",
    "print(entities)"
   ]
  },
  {
   "cell_type": "code",
   "execution_count": 79,
   "id": "c7c45989",
   "metadata": {},
   "outputs": [
    {
     "data": {
      "text/html": [
       "<div>\n",
       "<style scoped>\n",
       "    .dataframe tbody tr th:only-of-type {\n",
       "        vertical-align: middle;\n",
       "    }\n",
       "\n",
       "    .dataframe tbody tr th {\n",
       "        vertical-align: top;\n",
       "    }\n",
       "\n",
       "    .dataframe thead th {\n",
       "        text-align: right;\n",
       "    }\n",
       "</style>\n",
       "<table border=\"1\" class=\"dataframe\">\n",
       "  <thead>\n",
       "    <tr style=\"text-align: right;\">\n",
       "      <th></th>\n",
       "      <th>begin</th>\n",
       "      <th>end</th>\n",
       "    </tr>\n",
       "  </thead>\n",
       "  <tbody>\n",
       "    <tr>\n",
       "      <th>EMAIL</th>\n",
       "      <td>39</td>\n",
       "      <td>0</td>\n",
       "    </tr>\n",
       "    <tr>\n",
       "      <th>STREET_ADDRESS</th>\n",
       "      <td>2</td>\n",
       "      <td>20</td>\n",
       "    </tr>\n",
       "    <tr>\n",
       "      <th>ID_NUM</th>\n",
       "      <td>78</td>\n",
       "      <td>1</td>\n",
       "    </tr>\n",
       "    <tr>\n",
       "      <th>NAME_STUDENT</th>\n",
       "      <td>1365</td>\n",
       "      <td>1096</td>\n",
       "    </tr>\n",
       "    <tr>\n",
       "      <th>URL_PERSONAL</th>\n",
       "      <td>110</td>\n",
       "      <td>1</td>\n",
       "    </tr>\n",
       "    <tr>\n",
       "      <th>PHONE_NUM</th>\n",
       "      <td>6</td>\n",
       "      <td>15</td>\n",
       "    </tr>\n",
       "    <tr>\n",
       "      <th>USERNAME</th>\n",
       "      <td>6</td>\n",
       "      <td>0</td>\n",
       "    </tr>\n",
       "  </tbody>\n",
       "</table>\n",
       "</div>"
      ],
      "text/plain": [
       "                begin   end\n",
       "EMAIL              39     0\n",
       "STREET_ADDRESS      2    20\n",
       "ID_NUM             78     1\n",
       "NAME_STUDENT     1365  1096\n",
       "URL_PERSONAL      110     1\n",
       "PHONE_NUM           6    15\n",
       "USERNAME            6     0"
      ]
     },
     "execution_count": 79,
     "metadata": {},
     "output_type": "execute_result"
    }
   ],
   "source": [
    "distr_of_labels = {\n",
    "    'begin': [train_label_count.get('B-'+i,0) for i in entities],\n",
    "    'end': [train_label_count.get('I-'+i,0) for i in entities]\n",
    "                  }\n",
    "distr_of_labels_df = pd.DataFrame(data=distr_of_labels, index=entities)\n",
    "distr_of_labels_df"
   ]
  },
  {
   "cell_type": "code",
   "execution_count": 80,
   "id": "28331b7f",
   "metadata": {},
   "outputs": [
    {
     "data": {
      "text/html": [
       "<span class=\"tex2jax_ignore\"><div class=\"entities\" style=\"line-height: 2.5; direction: ltr\">Reflection – Storytelling<br><br>Challenge &amp; Selection<br><br>Storytelling is today the main tools one haves to promote your brand, product or idea. For the last  10 years, I’ve been involved in educational projects, specially focused on millennials. In order to  understand how to better communicate the information we wanted our audience to learn we asked  ourselves two questions: what millennials are interested in, and how they consume information. The  conclusions showed us that they are more willing to consume information when is given by someone  in the format of a story, for example, we saw a huge increase in Vlogers that talked about academic  issues like geography, politics and history, and they were very successful in their channels.<br><br>Application<br><br>We decided to tell our story as our main educational tool. Instead of talking about general history,  we started the conversation y telling our personal history. Before even talking about complex  realities, we talked about our personal challenges and dilemmas. Our classes became sessions and  the structure of teacher and students disappear. We were equals talking about real issues, learning  about how history could help us overcome our challenges by learning from it. Another very  important aspect is that we encouraged the participants to have a conversation with us, as  millennials are so used to do in social media, we gave them an opportunity to tell their stories.<br><br>Insight &amp; Approach<br><br>Education is a challenging process, and with every generation we should study a better way to do it.  Sadly, formal education is less open to changes. Our results show that, when applying storytelling  techniques to education, engagement grows and students are more open to learn.<br><br>By telling our story we became humans to the participants, and they were interested in hearing  what we had to say. More interestingly, we were able to discover that they had a lot to say too and  they realized that they knew more than what they thought about the subjects we were talking about<br><br>Now, I work in an executive manager position. Until this course I was not able to see the use of this  technique to my new job. This course allowed me to better understand how I can use techniques  from different backgrounds to create more holistic plans for the nonprofit I manage.<br><br>I think design thinking, in combination with classic techniques of project management, will allow us  to create programs that adapt better to the new reality of the world.<br><br>\n",
       "<mark class=\"entity\" style=\"background: #ddd; padding: 0.45em 0.6em; margin: 0 0.25em; line-height: 1; border-radius: 0.35em;\">\n",
       "    Mauro Pacheco\n",
       "    <span style=\"font-size: 0.8em; font-weight: bold; line-height: 1; border-radius: 0.35em; vertical-align: middle; margin-left: 0.5rem\">NAME_STUDENT</span>\n",
       "</mark>\n",
       "<br><br></div></span>"
      ],
      "text/plain": [
       "<IPython.core.display.HTML object>"
      ]
     },
     "metadata": {},
     "output_type": "display_data"
    }
   ],
   "source": [
    "from collections import Counter\n",
    "from spacy.tokens import Doc\n",
    "nlp = spacy.blank('en')\n",
    "\n",
    "def find_first_occurence(entity_):\n",
    "    for i in range(len(train_data)):\n",
    "        train_label_count_ = Counter(train_data.iloc[i]['labels'])\n",
    "        if 'B-'+entity_ in train_label_count_:\n",
    "            break\n",
    "    return i\n",
    "\n",
    "def render_entities(record_):\n",
    "    doc = Doc(nlp.vocab, words=record_['tokens'], spaces=record_['trailing_whitespace'], ents=record_['labels'])\n",
    "    spacy.displacy.render(doc, style='ent')\n",
    "render_entities(train_data.iloc[28])"
   ]
  },
  {
   "cell_type": "code",
   "execution_count": null,
   "id": "2494fbb8",
   "metadata": {},
   "outputs": [
    {
     "data": {
      "text/plain": [
       "Text(0.5, 1.0, 'Articles with and without labels')"
      ]
     },
     "execution_count": 81,
     "metadata": {},
     "output_type": "execute_result"
    },
    {
     "data": {
      "image/png": "[encoded data removed]",
      "text/plain": [
       "<Figure size 500x400 with 1 Axes>"
      ]
     },
     "metadata": {},
     "output_type": "display_data"
    }
   ],
   "source": [
    "plt.figure(figsize=(5,4))\n",
    "train_data['labels'].apply(lambda x: \"No entity\" if set(x) == {\"O\"} else \"At least one entity\").value_counts().plot.bar()\n",
    "plt.xticks(rotation=0)\n",
    "plt.title(\"Articles with and without labels\")\n",
    "#"
   ]
  }
 ],
 "metadata": {
  "kernelspec": {
   "display_name": "base",
   "language": "python",
   "name": "python3"
  },
  "language_info": {
   "codemirror_mode": {
    "name": "ipython",
    "version": 3
   },
   "file_extension": ".py",
   "mimetype": "text/x-python",
   "name": "python",
   "nbconvert_exporter": "python",
   "pygments_lexer": "ipython3",
   "version": "3.12.3"
  }
 },
 "nbformat": 4,
 "nbformat_minor": 5
}
